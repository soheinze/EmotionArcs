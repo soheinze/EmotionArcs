{
 "cells": [
  {
   "cell_type": "markdown",
   "metadata": {},
   "source": [
    "Step 1: Simple Authorization\n",
    "\n",
    "Step 2: Search for Albums\n",
    "\n",
    "Step 3: Get List of Songs for each Album\n",
    "\n",
    "Step 4: Get Audio Features for each Song"
   ]
  },
  {
   "cell_type": "code",
   "execution_count": 1,
   "metadata": {},
   "outputs": [],
   "source": [
    "import json\n",
    "import requests\n",
    "import re"
   ]
  },
  {
   "cell_type": "code",
   "execution_count": 2,
   "metadata": {},
   "outputs": [],
   "source": [
    "from spotify_client import *"
   ]
  },
  {
   "cell_type": "code",
   "execution_count": 3,
   "metadata": {},
   "outputs": [],
   "source": [
    "client_id = \"85434f2d38ba4509924f3940ec3b40ed\"\n",
    "client_secret = \"3bb1e3237c334e95b1db5244740d2fc0\""
   ]
  },
  {
   "cell_type": "code",
   "execution_count": 4,
   "metadata": {},
   "outputs": [],
   "source": [
    "#Initialize a client that is connected and can be used for queries etc.\n",
    "spotify = SpotifyAPI(client_id, client_secret)"
   ]
  },
  {
   "cell_type": "code",
   "execution_count": 5,
   "metadata": {},
   "outputs": [],
   "source": [
    "def search2(query=None, search_type='artist', limit=20, offset=0):\n",
    "        if isinstance(query, dict):\n",
    "            query = \" \".join([f\"{k}:{v}\" for k,v in query.items()])\n",
    "            print(query)\n",
    "        query_params = urlencode({\"q\": query, \"type\": search_type.lower(), \"limit\": limit, \"offset\": offset})\n",
    "        print(query_params)\n",
    "        return spotify.base_search(query_params)"
   ]
  },
  {
   "cell_type": "code",
   "execution_count": 6,
   "metadata": {},
   "outputs": [
    {
     "name": "stdout",
     "output_type": "stream",
     "text": [
      "album:Original Motion Picture Soundtrack\n",
      "q=album%3AOriginal+Motion+Picture+Soundtrack&type=album&limit=50&offset=0\n"
     ]
    }
   ],
   "source": [
    "results = search2({\"album\":\"Original Motion Picture Soundtrack\"},search_type=\"album\", limit=50)"
   ]
  },
  {
   "cell_type": "code",
   "execution_count": 7,
   "metadata": {},
   "outputs": [
    {
     "data": {
      "text/plain": [
       "dict"
      ]
     },
     "execution_count": 7,
     "metadata": {},
     "output_type": "execute_result"
    }
   ],
   "source": [
    "type(results)"
   ]
  },
  {
   "cell_type": "code",
   "execution_count": 8,
   "metadata": {},
   "outputs": [],
   "source": [
    "albums = results['albums']['items']"
   ]
  },
  {
   "cell_type": "code",
   "execution_count": 9,
   "metadata": {},
   "outputs": [
    {
     "data": {
      "text/plain": [
       "50"
      ]
     },
     "execution_count": 9,
     "metadata": {},
     "output_type": "execute_result"
    }
   ],
   "source": [
    "len(albums)"
   ]
  },
  {
   "cell_type": "code",
   "execution_count": 10,
   "metadata": {},
   "outputs": [
    {
     "name": "stdout",
     "output_type": "stream",
     "text": [
      "Frozen 2 (Original Motion Picture Soundtrack/Deluxe Edition)\n",
      "Moana (Original Motion Picture Soundtrack/Deluxe Edition)\n",
      "The Greatest Showman (Original Motion Picture Soundtrack)\n",
      "Frozen (Original Motion Picture Soundtrack / Deluxe Edition)\n",
      "TROLLS (Original Motion Picture Soundtrack)\n",
      "TROLLS World Tour (Original Motion Picture Soundtrack)\n",
      "Aladdin (Original Motion Picture Soundtrack)\n",
      "Coco (Original Motion Picture Soundtrack)\n",
      "Fifty Shades Freed (Original Motion Picture Soundtrack)\n",
      "The Twilight Saga: New Moon (Original Motion Picture Soundtrack)\n",
      "Beauty and the Beast (Original Motion Picture Soundtrack/Deluxe Edition)\n",
      "Hercules (Original Motion Picture Soundtrack)\n",
      "The Twilight Saga: Breaking Dawn - Part 1 (Original Motion Picture Soundtrack)\n",
      "The Lion King (Original Motion Picture Soundtrack)\n",
      "Grease (The Original Motion Picture Soundtrack)\n",
      "La La Land (Original Motion Picture Soundtrack)\n",
      "Fifty Shades Darker (Original Motion Picture Soundtrack)\n",
      "The Princess and the Frog (Original Motion Picture Soundtrack)\n",
      "RENT (Original Motion Picture Soundtrack)\n",
      "Mamma Mia! Here We Go Again (Original Motion Picture Soundtrack)\n",
      "Sing (Original Motion Picture Soundtrack / Deluxe)\n",
      "Call Me by Your Name (Original Motion Picture Soundtrack)\n",
      "Harry Potter and The Sorcerer's Stone Original Motion Picture Soundtrack\n",
      "Ultimate Pitch Perfect (Original Motion Picture Soundtrack)\n",
      "Pitch Perfect 2 - Special Edition (Original Motion Picture Soundtrack)\n",
      "O Brother, Where Art Thou? (Original Motion Picture Soundtrack)\n",
      "Tarzan (Original Motion Picture Soundtrack)\n",
      "Burlesque Original Motion Picture Soundtrack\n",
      "TENET (Original Motion Picture Soundtrack)\n",
      "Uncle Drew (Original Motion Picture Soundtrack)\n",
      "Aladdin (Original Motion Picture Soundtrack)\n",
      "The Phantom Of The Opera (Original Motion Picture Soundtrack)\n",
      "The Fast And The Furious: Tokyo Drift (Original Motion Picture Soundtrack)\n",
      "Interstellar (Original Motion Picture Soundtrack)\n",
      "Moana (Original Motion Picture Soundtrack)\n",
      "The Lord of the Rings: The Fellowship of the Ring (Original Motion Picture Soundtrack)\n",
      "Zootopia (Original Motion Picture Soundtrack)\n",
      "Furious 7: Original Motion Picture Soundtrack\n",
      "Mulan (Original Motion Picture Soundtrack)\n",
      "Cars (Original Motion Picture Soundtrack)\n",
      "Reservoir Dogs (Original Motion Picture Soundtrack)\n",
      "Interstellar (Original Motion Picture Soundtrack) [Deluxe Version]\n",
      "Dirty Dancing (Original Motion Picture Soundtrack)\n",
      "Crazy Rich Asians (Original Motion Picture Soundtrack)\n",
      "Cinderella (Original Motion Picture Soundtrack)\n",
      "Up (Original Motion Picture Soundtrack)\n",
      "Fifty Shades Of Grey (Original Motion Picture Soundtrack)\n",
      "Harry Potter and the Half-Blood Prince (Original Motion Picture Soundtrack)\n",
      "The Twilight Saga: Breaking Dawn - Part 2 (Original Motion Picture Soundtrack)\n",
      "COWBOY BEBOP (Original Motion Picture Soundtrack)\n"
     ]
    }
   ],
   "source": [
    "for album in albums:\n",
    "    print(album['name'])"
   ]
  },
  {
   "cell_type": "code",
   "execution_count": 11,
   "metadata": {},
   "outputs": [
    {
     "name": "stdout",
     "output_type": "stream",
     "text": [
      "0\n",
      "50\n",
      "100\n",
      "150\n",
      "200\n",
      "250\n"
     ]
    }
   ],
   "source": [
    "for i in range (0,251,50):\n",
    "    print(i)"
   ]
  },
  {
   "cell_type": "code",
   "execution_count": 12,
   "metadata": {},
   "outputs": [
    {
     "name": "stdout",
     "output_type": "stream",
     "text": [
      "album:Original Motion Picture Soundtrack\n",
      "q=album%3AOriginal+Motion+Picture+Soundtrack&type=album&limit=50&offset=0\n",
      "album:Original Motion Picture Soundtrack\n",
      "q=album%3AOriginal+Motion+Picture+Soundtrack&type=album&limit=50&offset=50\n",
      "album:Original Motion Picture Soundtrack\n",
      "q=album%3AOriginal+Motion+Picture+Soundtrack&type=album&limit=50&offset=100\n",
      "album:Original Motion Picture Soundtrack\n",
      "q=album%3AOriginal+Motion+Picture+Soundtrack&type=album&limit=50&offset=150\n",
      "album:Original Motion Picture Soundtrack\n",
      "q=album%3AOriginal+Motion+Picture+Soundtrack&type=album&limit=50&offset=200\n",
      "album:Original Motion Picture Soundtrack\n",
      "q=album%3AOriginal+Motion+Picture+Soundtrack&type=album&limit=50&offset=250\n",
      "album:Original Motion Picture Soundtrack\n",
      "q=album%3AOriginal+Motion+Picture+Soundtrack&type=album&limit=50&offset=300\n",
      "album:Original Motion Picture Soundtrack\n",
      "q=album%3AOriginal+Motion+Picture+Soundtrack&type=album&limit=50&offset=350\n",
      "album:Original Motion Picture Soundtrack\n",
      "q=album%3AOriginal+Motion+Picture+Soundtrack&type=album&limit=50&offset=400\n",
      "album:Original Motion Picture Soundtrack\n",
      "q=album%3AOriginal+Motion+Picture+Soundtrack&type=album&limit=50&offset=450\n",
      "album:Original Motion Picture Soundtrack\n",
      "q=album%3AOriginal+Motion+Picture+Soundtrack&type=album&limit=50&offset=500\n"
     ]
    }
   ],
   "source": [
    "result_lists=[]\n",
    "for i in range (0,501,50):\n",
    "    results = search2({\"album\":\"Original Motion Picture Soundtrack\"},search_type=\"album\", limit=50, offset=i)\n",
    "    result_lists.append(results)"
   ]
  },
  {
   "cell_type": "code",
   "execution_count": 13,
   "metadata": {},
   "outputs": [
    {
     "data": {
      "text/plain": [
       "11"
      ]
     },
     "execution_count": 13,
     "metadata": {},
     "output_type": "execute_result"
    }
   ],
   "source": [
    "len(result_lists)"
   ]
  },
  {
   "cell_type": "markdown",
   "metadata": {},
   "source": [
    "**Regex Expression that will match anything between (...)**\n",
    "\n",
    "(\\([a-zA-Z /\\[\\]]+\\))\n",
    "\n",
    "**Regex Expression that will match the exact String as a group without ()**\n",
    "\n",
    "(Original Motion Picture Soundtrack)\n",
    "\n",
    "\n",
    "**Regex Expression that will match anything between \\[...]**\n",
    "\n",
    "(\\[[a-zA-Z ']+\\])"
   ]
  },
  {
   "cell_type": "code",
   "execution_count": 14,
   "metadata": {},
   "outputs": [],
   "source": [
    "def get_soundtracks(result):\n",
    "    soundtrack_list = []\n",
    "    for result_list in result_lists:\n",
    "        for album in result_list['albums']['items']:\n",
    "            title = album['name']\n",
    "            title = re.sub('(\\([a-zA-Z /\\[\\].&\"\"]+\\))', '', title)\n",
    "            title = re.sub('(Original Motion Picture Soundtrack)', '', title)\n",
    "            title = re.sub(\"(\\[[a-zA-Z ']+\\])\",'',title)\n",
    "            title = re.sub('\\[\\]','',title)\n",
    "            title = re.sub('-','',title)\n",
    "            title = re.sub('/','',title)\n",
    "            soundtrack_list.append(title)\n",
    "    return soundtrack_list"
   ]
  },
  {
   "cell_type": "code",
   "execution_count": 15,
   "metadata": {},
   "outputs": [],
   "source": [
    "title_list = get_soundtracks(result_lists)"
   ]
  },
  {
   "cell_type": "code",
   "execution_count": 16,
   "metadata": {},
   "outputs": [
    {
     "data": {
      "text/plain": [
       "550"
      ]
     },
     "execution_count": 16,
     "metadata": {},
     "output_type": "execute_result"
    }
   ],
   "source": [
    "len(title_list)"
   ]
  },
  {
   "cell_type": "code",
   "execution_count": 20,
   "metadata": {},
   "outputs": [
    {
     "data": {
      "text/plain": [
       "['Frozen 2 ',\n",
       " 'Moana ',\n",
       " 'The Greatest Showman ',\n",
       " 'Frozen ',\n",
       " 'TROLLS ',\n",
       " 'TROLLS World Tour ',\n",
       " 'Aladdin ',\n",
       " 'Coco ',\n",
       " 'Fifty Shades Freed ',\n",
       " 'The Twilight Saga: New Moon ',\n",
       " 'Beauty and the Beast ',\n",
       " 'Hercules ',\n",
       " 'The Twilight Saga: Breaking Dawn  Part 1 ',\n",
       " 'The Lion King ',\n",
       " 'Grease ',\n",
       " 'La La Land ',\n",
       " 'Fifty Shades Darker ',\n",
       " 'The Princess and the Frog ',\n",
       " 'RENT ',\n",
       " 'Mamma Mia! Here We Go Again ',\n",
       " 'Sing ',\n",
       " 'Call Me by Your Name ',\n",
       " \"Harry Potter and The Sorcerer's Stone \",\n",
       " 'Ultimate Pitch Perfect ',\n",
       " 'Pitch Perfect 2  Special Edition ',\n",
       " 'O Brother, Where Art Thou? ',\n",
       " 'Tarzan ',\n",
       " 'Burlesque ',\n",
       " 'TENET ',\n",
       " 'Uncle Drew ']"
      ]
     },
     "execution_count": 20,
     "metadata": {},
     "output_type": "execute_result"
    }
   ],
   "source": [
    "title_list[:30]"
   ]
  },
  {
   "cell_type": "markdown",
   "metadata": {},
   "source": [
    "https://developer.imdb.com/\n",
    "\n",
    "Python lib to fetch data from imdb\n",
    "https://imdbpy.readthedocs.io/en/latest/usage/quickstart.html"
   ]
  },
  {
   "cell_type": "code",
   "execution_count": 17,
   "metadata": {},
   "outputs": [
    {
     "name": "stdout",
     "output_type": "stream",
     "text": [
      "Collecting IMDbPY\n",
      "  Downloading IMDbPY-2020.9.25-py3-none-any.whl (304 kB)\n",
      "\u001b[K     |████████████████████████████████| 304 kB 1.9 MB/s eta 0:00:01\n",
      "\u001b[?25hCollecting SQLAlchemy\n",
      "  Downloading SQLAlchemy-1.3.19-cp38-cp38-macosx_10_14_x86_64.whl (1.2 MB)\n",
      "\u001b[K     |████████████████████████████████| 1.2 MB 3.3 MB/s eta 0:00:01\n",
      "\u001b[?25hCollecting lxml\n",
      "  Downloading lxml-4.5.2-cp38-cp38-macosx_10_9_x86_64.whl (4.5 MB)\n",
      "\u001b[K     |████████████████████████████████| 4.5 MB 6.1 MB/s eta 0:00:01\n",
      "\u001b[?25hInstalling collected packages: SQLAlchemy, lxml, IMDbPY\n",
      "Successfully installed IMDbPY-2020.9.25 SQLAlchemy-1.3.19 lxml-4.5.2\n"
     ]
    }
   ],
   "source": [
    "!pip install IMDbPY"
   ]
  },
  {
   "cell_type": "code",
   "execution_count": 21,
   "metadata": {},
   "outputs": [],
   "source": [
    "import imdb\n",
    "ia = imdb.IMDb()"
   ]
  },
  {
   "cell_type": "code",
   "execution_count": 58,
   "metadata": {},
   "outputs": [],
   "source": [
    "testing = ia.search_movie('Frozen 2')"
   ]
  },
  {
   "cell_type": "code",
   "execution_count": 59,
   "metadata": {},
   "outputs": [
    {
     "data": {
      "text/plain": [
       "[<Movie id:4520988[http] title:_Frozen II (2019)_>,\n",
       " <Movie id:11929670[http] title:_\"Nostalgia Critic\" Frozen 2 (2020)_>,\n",
       " <Movie id:6597656[http] title:_\"Animation Domination High-Def\" Frozen 2 (2015)_>,\n",
       " <Movie id:13138624[http] title:_Frozen 2 - Priyanka Chopra Jonas and Parineeti Chopra - Promo (2019) (V)_>,\n",
       " <Movie id:9801122[http] title:_\"Council of Geeks\" Frozen 2 : First Trailer Thoughts (2019)_>,\n",
       " <Movie id:11655832[http] title:_\"The Screening Room\" Frozen 2, Jumanji: The Next Level, Knives Out (2020)_>,\n",
       " <Movie id:12215328[http] title:_\"Fantastic Geeks and Where to Find Them\" Frozen 2 REVIEW - Best or Worst Sequel Ever?? (2019)_>,\n",
       " <Movie id:11366968[http] title:_\"Geeks + Gamers\" Frozen 2 Got Woke (2019)_>,\n",
       " <Movie id:2294629[http] title:_Frozen (I) (2013)_>,\n",
       " <Movie id:1323045[http] title:_Frozen (I) (2010)_>,\n",
       " <Movie id:2005374[http] title:_The Frozen Ground (2013)_>,\n",
       " <Movie id:0376606[http] title:_Frozen (I) (2005)_>,\n",
       " <Movie id:8060472[http] title:_Hope Frozen (2018)_>,\n",
       " <Movie id:7756492[http] title:_Frozen in Love (2018) (TV)_>,\n",
       " <Movie id:11958844[http] title:_\"Animation Explosion\" Frozen 2 (2019)_>,\n",
       " <Movie id:11310174[http] title:_\"Jeremy Jahns\" Frozen 2 (2019)_>,\n",
       " <Movie id:12330106[http] title:_\"Tony Talks Movies\" Frozen 2 (2020)_>,\n",
       " <Movie id:11336272[http] title:_\"Screen Rant Pitch Meetings\" Frozen 2 (2019)_>,\n",
       " <Movie id:9677696[http] title:_\"So Far\" 'Frozen 2' (2019)_>,\n",
       " <Movie id:11439468[http] title:_\"Disneycember\" Frozen 2 (2019)_>]"
      ]
     },
     "execution_count": 59,
     "metadata": {},
     "output_type": "execute_result"
    }
   ],
   "source": [
    "testing"
   ]
  },
  {
   "cell_type": "code",
   "execution_count": 22,
   "metadata": {},
   "outputs": [],
   "source": [
    "imdb_list = []\n",
    "for title in title_list[:10]:\n",
    "    movie = ia.search_movie(title, results=1)\n",
    "    imdb_list.append(movie)"
   ]
  },
  {
   "cell_type": "code",
   "execution_count": 23,
   "metadata": {},
   "outputs": [
    {
     "data": {
      "text/plain": [
       "[[<Movie id:4520988[http] title:_Frozen II (2019)_>],\n",
       " [<Movie id:3521164[http] title:_Moana (I) (2016)_>],\n",
       " [<Movie id:1485796[http] title:_The Greatest Showman (2017)_>],\n",
       " [<Movie id:2294629[http] title:_Frozen (I) (2013)_>],\n",
       " [<Movie id:1679335[http] title:_Trolls (2016)_>],\n",
       " [<Movie id:6587640[http] title:_Trolls World Tour (2020)_>],\n",
       " [<Movie id:6139732[http] title:_Aladdin (2019)_>],\n",
       " [<Movie id:2380307[http] title:_Coco (I) (2017)_>],\n",
       " [<Movie id:4477536[http] title:_Fifty Shades Freed (2018)_>],\n",
       " [<Movie id:1259571[http] title:_The Twilight Saga: New Moon (2009)_>]]"
      ]
     },
     "execution_count": 23,
     "metadata": {},
     "output_type": "execute_result"
    }
   ],
   "source": [
    "imdb_list"
   ]
  },
  {
   "cell_type": "code",
   "execution_count": 24,
   "metadata": {},
   "outputs": [
    {
     "name": "stdout",
     "output_type": "stream",
     "text": [
      "4520988\n",
      "3521164\n",
      "1485796\n",
      "2294629\n",
      "1679335\n",
      "6587640\n",
      "6139732\n",
      "2380307\n",
      "4477536\n",
      "1259571\n"
     ]
    }
   ],
   "source": [
    "for item in imdb_list:\n",
    "    print(item[0].movieID)"
   ]
  },
  {
   "cell_type": "code",
   "execution_count": 25,
   "metadata": {},
   "outputs": [
    {
     "data": {
      "text/plain": [
       "{'main': ['original title',\n",
       "  'cast',\n",
       "  'genres',\n",
       "  'runtimes',\n",
       "  'countries',\n",
       "  'country codes',\n",
       "  'language codes',\n",
       "  'color info',\n",
       "  'aspect ratio',\n",
       "  'sound mix',\n",
       "  'box office',\n",
       "  'certificates',\n",
       "  'original air date',\n",
       "  'rating',\n",
       "  'votes',\n",
       "  'cover url',\n",
       "  'imdbID',\n",
       "  'plot outline',\n",
       "  'languages',\n",
       "  'title',\n",
       "  'year',\n",
       "  'kind',\n",
       "  'directors',\n",
       "  'writers',\n",
       "  'producers',\n",
       "  'composers',\n",
       "  'editors',\n",
       "  'editorial department',\n",
       "  'casting directors',\n",
       "  'production designers',\n",
       "  'art directors',\n",
       "  'production managers',\n",
       "  'art department',\n",
       "  'sound department',\n",
       "  'visual effects',\n",
       "  'camera department',\n",
       "  'animation department',\n",
       "  'casting department',\n",
       "  'music department',\n",
       "  'script department',\n",
       "  'miscellaneous',\n",
       "  'thanks',\n",
       "  'akas',\n",
       "  'writer',\n",
       "  'director',\n",
       "  'production companies',\n",
       "  'distributors',\n",
       "  'other companies'],\n",
       " 'plot': ['plot', 'synopsis']}"
      ]
     },
     "execution_count": 25,
     "metadata": {},
     "output_type": "execute_result"
    }
   ],
   "source": [
    "movie_info = ia.get_movie('4520988')\n",
    "movie_info.infoset2keys"
   ]
  },
  {
   "cell_type": "code",
   "execution_count": 27,
   "metadata": {},
   "outputs": [],
   "source": [
    "'''\n",
    "for item in imdb_list:\n",
    "    movie_id = item[0].movieID\n",
    "    movie_info = ia.get_movie(movie_id)\n",
    "    ia.update(movie_info, info=['main'])\n",
    "    movie_info\n",
    "'''"
   ]
  },
  {
   "cell_type": "code",
   "execution_count": 47,
   "metadata": {},
   "outputs": [
    {
     "data": {
      "text/plain": [
       "['Animation', 'Adventure', 'Comedy', 'Family', 'Fantasy', 'Musical']"
      ]
     },
     "execution_count": 47,
     "metadata": {},
     "output_type": "execute_result"
    }
   ],
   "source": [
    "ia.get_movie_main(4520988)['data']['genres']"
   ]
  },
  {
   "cell_type": "code",
   "execution_count": null,
   "metadata": {},
   "outputs": [],
   "source": []
  }
 ],
 "metadata": {
  "kernelspec": {
   "display_name": "Python 3",
   "language": "python",
   "name": "python3"
  },
  "language_info": {
   "codemirror_mode": {
    "name": "ipython",
    "version": 3
   },
   "file_extension": ".py",
   "mimetype": "text/x-python",
   "name": "python",
   "nbconvert_exporter": "python",
   "pygments_lexer": "ipython3",
   "version": "3.8.5"
  }
 },
 "nbformat": 4,
 "nbformat_minor": 4
}
