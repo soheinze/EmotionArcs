{
 "cells": [
  {
   "cell_type": "code",
   "execution_count": 2,
   "metadata": {},
   "outputs": [],
   "source": [
    "import os\n",
    "import re\n",
    "import json\n",
    "import requests"
   ]
  },
  {
   "cell_type": "code",
   "execution_count": 3,
   "metadata": {},
   "outputs": [],
   "source": [
    "from spotify_client import *"
   ]
  },
  {
   "cell_type": "code",
   "execution_count": 4,
   "metadata": {},
   "outputs": [],
   "source": [
    "client_id = \"85434f2d38ba4509924f3940ec3b40ed\"\n",
    "client_secret = \"3bb1e3237c334e95b1db5244740d2fc0\""
   ]
  },
  {
   "cell_type": "code",
   "execution_count": 5,
   "metadata": {},
   "outputs": [],
   "source": [
    "#Initialize a client that is connected and can be used for queries etc.\n",
    "spotify = SpotifyAPI(client_id, client_secret)"
   ]
  },
  {
   "cell_type": "code",
   "execution_count": 60,
   "metadata": {},
   "outputs": [],
   "source": [
    "#Get list of existing scripts from imsdb\n",
    "testlist = []\n",
    "\n",
    "for file in os.listdir(\"./imsdb_download_all_scripts-main/scripts\"):\n",
    "    if file.endswith(\".txt\"):\n",
    "        file = re.sub(\".txt\",\"\",file)\n",
    "        file = re.sub(\"-\",\" \",file)\n",
    "        file = file + \" Original Motion Picture Soundtrack\"\n",
    "        testlist.append(file)"
   ]
  },
  {
   "cell_type": "code",
   "execution_count": 61,
   "metadata": {},
   "outputs": [
    {
     "data": {
      "text/plain": [
       "631"
      ]
     },
     "execution_count": 61,
     "metadata": {},
     "output_type": "execute_result"
    }
   ],
   "source": [
    "len(testlist)"
   ]
  },
  {
   "cell_type": "code",
   "execution_count": null,
   "metadata": {},
   "outputs": [],
   "source": [
    "'''\n",
    "dicts = {}\n",
    "keys = range(4)\n",
    "values = [\"Hi\", \"I\", \"am\", \"John\"]\n",
    "for i in keys:\n",
    "        dicts[i] = values[i]\n",
    "print(dicts)\n",
    "'''"
   ]
  },
  {
   "cell_type": "code",
   "execution_count": 62,
   "metadata": {},
   "outputs": [],
   "source": [
    "#TO DO: Remove \"Add on Text from file_list and move it into the search only\"\n",
    "\n",
    "'''Create a base dictionary here with: {title:result} or integrate a function here, but spotify search should\n",
    " remain independent, i.e. changes in the dict should not result in having to do the search all over again.\n",
    " Nested dictionary?\n",
    "'''\n",
    "\n",
    "resultlist = []\n",
    "for title in testlist:\n",
    "    spotify_search = spotify.search(title,search_type=\"album\")\n",
    "    result = spotify_search['albums']['items']\n",
    "    resultlist.append(result)"
   ]
  },
  {
   "cell_type": "code",
   "execution_count": 63,
   "metadata": {},
   "outputs": [
    {
     "data": {
      "text/plain": [
       "631"
      ]
     },
     "execution_count": 63,
     "metadata": {},
     "output_type": "execute_result"
    }
   ],
   "source": [
    "len(resultlist)"
   ]
  },
  {
   "cell_type": "code",
   "execution_count": 1,
   "metadata": {},
   "outputs": [
    {
     "ename": "NameError",
     "evalue": "name 'resultlist' is not defined",
     "output_type": "error",
     "traceback": [
      "\u001b[0;31m---------------------------------------------------------------------------\u001b[0m",
      "\u001b[0;31mNameError\u001b[0m                                 Traceback (most recent call last)",
      "\u001b[0;32m<ipython-input-1-30657dfc1add>\u001b[0m in \u001b[0;36m<module>\u001b[0;34m\u001b[0m\n\u001b[0;32m----> 1\u001b[0;31m \u001b[0mresultlist\u001b[0m\u001b[0;34m\u001b[0m\u001b[0;34m\u001b[0m\u001b[0m\n\u001b[0m",
      "\u001b[0;31mNameError\u001b[0m: name 'resultlist' is not defined"
     ]
    }
   ],
   "source": []
  },
  {
   "cell_type": "code",
   "execution_count": 65,
   "metadata": {},
   "outputs": [
    {
     "name": "stdout",
     "output_type": "stream",
     "text": [
      "Warrior (Original Motion Picture Soundtrack) 1MklXGl4hYwoaRun9vl3Rd spotify:album:1MklXGl4hYwoaRun9vl3Rd\n",
      "Warrior (Original Motion Picture Soundtrack) 6W77AuBB1qzK6GtvNmqN9S spotify:album:6W77AuBB1qzK6GtvNmqN9S\n",
      "Warrior (Original Motion Picture Soundtrack) 35sTon9I5l0y6eLtNIPojJ spotify:album:35sTon9I5l0y6eLtNIPojJ\n"
     ]
    }
   ],
   "source": [
    "#Narrow down if there are more than one result\n",
    "#refinement for later ? Try to work with unique values only for now?\n",
    "for r in resultlist[2]:\n",
    "    if \"Warrior (Original Motion Picture Soundtrack)\" == r['name']:\n",
    "        print(r['name'], r['id'],r['uri'])"
   ]
  },
  {
   "cell_type": "code",
   "execution_count": 84,
   "metadata": {},
   "outputs": [],
   "source": [
    "title_soundtrack_dict = {}\n",
    "\n",
    "for result in resultlist[:20]:\n",
    "    if len(result)==1:\n",
    "        for r in result:\n",
    "            title_soundtrack_dict[] = [r['name'],r['id']]"
   ]
  },
  {
   "cell_type": "code",
   "execution_count": 85,
   "metadata": {},
   "outputs": [
    {
     "name": "stdout",
     "output_type": "stream",
     "text": [
      "Theory of Everything, The Original Motion Picture Soundtrack ['While She Was Out (Original Motion Picture Soundtrack)', '6bvwCUr0OHBYSc4fBJtudk']\n"
     ]
    }
   ],
   "source": [
    "for key, value in title_soundtrack_dict.items():\n",
    "    print(key, value)"
   ]
  },
  {
   "cell_type": "code",
   "execution_count": 29,
   "metadata": {},
   "outputs": [
    {
     "data": {
      "text/plain": [
       "149"
      ]
     },
     "execution_count": 29,
     "metadata": {},
     "output_type": "execute_result"
    }
   ],
   "source": [
    "#From 631 scripts in the list down to 149 movies that had only one soundtrack\n",
    "len(title_soundtrack_dict)"
   ]
  },
  {
   "cell_type": "code",
   "execution_count": 30,
   "metadata": {},
   "outputs": [
    {
     "name": "stdout",
     "output_type": "stream",
     "text": [
      "Filtered Dictionary :\n",
      "Inventing the Abbotts soundtrack ----- Inventing The Abbotts (Original Motion Picture Soundtrack)\n",
      "Nick of Time soundtrack ----- O Técnico (Original Motion Picture Soundtrack)\n",
      "Sense and Sensibility soundtrack ----- Sense & Sensibility - Original Motion Picture Soundtrack\n",
      "While She Was Ou soundtrack ----- While She Was Out (Original Motion Picture Soundtrack)\n",
      "Fabulous Baker Boys, The soundtrack ----- The Fabulous Baker Boys (Original Motion Picture Soundtrack)\n",
      "Martha Marcy May Marlene soundtrack ----- Martha Marcy May Marlene (Original Motion Picture Soundtrack)\n",
      "What Lies Benea soundtrack ----- What Lies Beneath (Original Motion Picture Soundtrack)\n",
      "Changeling soundtrack ----- Changeling (Original Motion Picture Soundtrack)\n",
      "Spanglis soundtrack ----- Spanglish (Original Motion Picture Soundtrack)\n",
      "Law Abiding Citizen soundtrack ----- Law Abiding Citizen (Original Motion Picture Soundtrack)\n",
      "Agnes of God soundtrack ----- Agnes Of God (Original Motion Picture Soundtrack)\n",
      "True Gri soundtrack ----- True Grit (Original Motion Picture Soundtrack)\n",
      "Coriolanus soundtrack ----- Coriolanus (Original Motion Picture Soundtrack)\n",
      "Best Exotic Marigold Hotel, The soundtrack ----- The Second Best Exotic Marigold Hotel (Original Motion Picture Soundtrack)\n",
      "Bourne Supremacy, The soundtrack ----- The Bourne Supremacy (Original Motion Picture Soundtrack)\n",
      "Beasts of No Nation soundtrack ----- Beasts of No Nation (Original Motion Picture Soundtrack)\n",
      "Starman soundtrack ----- Elliot Kershaw's Starman from Heaven (Original Motion Picture Soundtrack)\n",
      "War for the Planet of the Apes soundtrack ----- War for the Planet of the Apes (Original Motion Picture Soundtrack)\n",
      "Ninja Assassin soundtrack ----- Ninja Assassin (Original Motion Picture Soundtrack)\n",
      "Marley & Me soundtrack ----- Marley & Me (Original Motion Picture Soundtrack)\n",
      "Last Flight, The soundtrack ----- The Last Flight (Original Motion Picture Soundtrack)\n",
      "August Osage County soundtrack ----- August: Osage County (Original Motion Picture Soundtrack)\n",
      "Life As A House soundtrack ----- Life As A House (Original Motion Picture Soundtrack)\n",
      "Celeste & Jesse Forever soundtrack ----- Celeste & Jesse Forever (Original Motion Picture Soundtrack)\n",
      "Enemy of the State soundtrack ----- Victor Hugo, Enemy of the State (Original Motion Picture Soundtrack)\n",
      "Out of Sig soundtrack ----- Out of Sight...Out of Mind (Original Motion Picture Soundtrack)\n",
      "It's a Wonderful Life soundtrack ----- It's a Wonderful Life (Original Motion Picture Soundtrack)\n",
      "Next Three Days, The soundtrack ----- The Next Three Days (Original Motion Picture Soundtrack)\n",
      "Butterfly Effect, The soundtrack ----- The Butterfly Effect 3: Revelations (Original Motion Picture Soundtrack)\n",
      "American Psycho soundtrack ----- American Psycho 2 (Original Motion Picture Soundtrack)\n",
      "Rise of the Planet of the Apes soundtrack ----- Rise Of The Planet Of The Apes (Original Motion Picture Soundtrack)\n",
      "Power of One, The soundtrack ----- The Power Of One Original Motion Picture Soundtrack\n",
      "Margare soundtrack ----- Apartment Hunting (Original Motion Picture Soundtrack)\n",
      "An Education soundtrack ----- General Education (Original Motion Picture Soundtrack)\n",
      "Hurt Locker, The soundtrack ----- The Hurt Locker (Original Motion Picture Soundtrack)\n",
      "Chronicles of Narnia The Lion, the Witch and the Wardrobe soundtrack ----- The Chronicles of Narnia: The Lion, The Witch and The Wardrobe (Original Motion Picture Soundtrack)\n",
      "Point Break soundtrack ----- Breaking Point (Breekpunt): Original Motion Picture Soundtrack\n",
      "Get Low soundtrack ----- Get Low (Original Motion Picture Soundtrack)\n",
      "Last Station, The soundtrack ----- The Last Station (Original Motion Picture Soundtrack)\n",
      "Black Snake Moan soundtrack ----- Black Snake Moan: Original Motion Picture Soundtrack\n",
      "Taking Sides soundtrack ----- Taking Sides - Original Motion Picture Soundtrack\n",
      "American Hustle soundtrack ----- American Hustle (Original Motion Picture Soundtrack)\n",
      "All the King's Men soundtrack ----- All The King's Men (Original Motion Picture Soundtrack)\n",
      "Hackers soundtrack ----- Hacker's Game Redux (Original Motion Picture Soundtrack)\n",
      "Brothers Bloom, The soundtrack ----- The Brothers Bloom (Original Motion Picture Soundtrack)\n",
      "Slumdog Millionaire soundtrack ----- Millionaire Slumdog (Original Motion Picture Soundtrack)\n",
      "Sunshine Cleaning soundtrack ----- Sunshine Cleaning (Original Motion Picture Soundtrack)\n",
      "Dead Poets Society soundtrack ----- Dead Poets Society - Le cercle des poètes disparus (Peter Weir's Original Motion Picture Soundtrack)\n",
      "Omega Man soundtrack ----- The Omega Man (Original Motion Picture Soundtrack)\n",
      "Paria soundtrack ----- Farmer Michael (The Life and Times of a Social Media Pariah) [Original Motion Picture Soundtrack]\n",
      "Twilight New Moon soundtrack ----- The Twilight Saga: New Moon (Original Motion Picture Soundtrack)\n",
      "Good Girl, The soundtrack ----- Good Girls (from the \"Ghostbusters\" Original Motion Picture Soundtrack)\n",
      "Big Blue, The soundtrack ----- The Big Blue (Original Motion Picture Soundtrack)\n",
      "Snow Falling On Cedars soundtrack ----- Snow Falling On Cedars (Original Motion Picture Soundtrack)\n",
      "Moneyba soundtrack ----- Moneyball (Original Motion Picture Soundtrack)\n",
      "Ex Machina soundtrack ----- Ex Machina (Original Motion Picture Soundtrack)\n",
      "Swingers soundtrack ----- Swingers (Original Motion Picture Soundtrack)\n",
      "Shipping News, The soundtrack ----- The Shipping News (Original Motion Picture Soundtrack)\n",
      "Beginners soundtrack ----- Beginners (Original Motion Picture Soundtrack)\n",
      "He's Just Not That Into You soundtrack ----- He's Just Not That Into You (Original Motion Picture Soundtrack)\n",
      "Sixth Sense, The soundtrack ----- The Sixth Sense (Original Motion Picture Soundtrack)\n",
      "Fair Game soundtrack ----- A Fairy's Game (Original Motion Picture Soundtrack)\n",
      "Jacket, The soundtrack ----- Man in the Camo Jacket: Original Motion Picture Soundtrack\n",
      "Fruitvale Station soundtrack ----- Fruitvale Station (Original Motion Picture Soundtrack)\n",
      "Informant, The soundtrack ----- The Informant! (Original Motion Picture Soundtrack)\n",
      "Syriana soundtrack ----- Syriana (Original Motion Picture Soundtrack)\n",
      "44 Inch Ches soundtrack ----- 44 Inch Chest (Original Motion Picture Soundtrack)\n",
      "Bonfire of the Vanities soundtrack ----- The Bonfire of the Vanities - Original Motion Picture Soundtrack\n",
      "We Own the Nig soundtrack ----- We Own the Night (Original Motion Picture Soundtrack)\n",
      "Big Sick, The soundtrack ----- The Big Sick (Original Motion Picture Soundtrack)\n",
      "Eastern Promises soundtrack ----- Eastern Promises - Original Motion Picture Soundtrack\n",
      "Smokin' Aces soundtrack ----- Smokin' Aces (Original Motion Picture Soundtrack)\n",
      "Birdman soundtrack ----- Birdman (Original Motion Picture Soundtrack)\n",
      "Moonstruck soundtrack ----- Moonstruck (Original Motion Picture Soundtrack)\n",
      "Rust and Bone soundtrack ----- Rust and Bone (Original Motion Picture Soundtrack)\n",
      "25th Hour soundtrack ----- 25th Hour (Original Motion Picture Soundtrack)\n",
      "BlacKkKlansman soundtrack ----- BlacKkKlansman (Original Motion Picture Soundtrack)\n",
      "Lord of War soundtrack ----- Lord of War (Original Motion Picture Soundtrack)\n",
      "Catch Me If You Can soundtrack ----- Catch Me If You Can - Original Motion Picture Soundtrack\n",
      "Bourne Identity, The soundtrack ----- The Bourne Identity (Original Motion Picture Soundtrack)\n",
      "Salton Sea, The soundtrack ----- The Salton Sea (Original Motion Picture Soundtrack)\n",
      "V for Vendetta soundtrack ----- The Very Best of Sci-fi & Fantasy (From Sucker Punch to V for Vendetta) [Original Motion Picture Soundtrack]\n",
      "Mr Brooks soundtrack ----- Mr. Brooks (Original Motion Picture Soundtrack)\n",
      "St. Elmo's Fire soundtrack ----- St. Elmo's Fire - Music From The Original Motion Picture Soundtrack\n",
      "Sunset Blvd soundtrack ----- Sunset Boulevard (Blvd.) [Original Motion Picture Soundtrack]\n",
      "Star Trek Nemesis soundtrack ----- Star Trek: Nemesis (Music From The Original Motion Picture Soundtrack)\n",
      "Kill Your Darlings soundtrack ----- Kill Your Darlings (Original Motion Picture Soundtrack)\n",
      "Ed Wood soundtrack ----- Into the Woods (Original Motion Picture Soundtrack/Deluxe Edition)\n",
      "Honeydripper soundtrack ----- Honeydripper (Original Motion Picture Soundtrack)\n",
      "Grifters, The soundtrack ----- The Grifters (Original Motion Picture Soundtrack)\n",
      "Awakenings soundtrack ----- Awakenings - Original Motion Picture Soundtrack\n",
      "Synecdoche, New York soundtrack ----- Synecdoche, New York (Original Motion Picture Soundtrack)\n",
      "Ides of March, The soundtrack ----- The Ides Of March (Original Motion Picture Soundtrack)\n",
      "Backdraf soundtrack ----- Backdraft 2 (Original Motion Picture Soundtrack)\n",
      "Robin Hood Prince of Thieves soundtrack ----- Robin Hood: Prince Of Thieves (Original Motion Picture Soundtrack)\n",
      "Do The Right Thing soundtrack ----- Do The Right Thing (Original Motion Picture Soundtrack)\n",
      "In the Bedroo soundtrack ----- In The Bedroom (Original Motion Picture Soundtrack)\n",
      "Roommate, The soundtrack ----- The Roommate (Original Motion Picture Soundtrack)\n",
      "Miller's Crossing soundtrack ----- Miller's Crossing (Original Motion Picture Soundtrack)\n",
      "Blue Valentine soundtrack ----- Blue Valentine (Original Motion Picture Soundtrack)\n",
      "Clash of the Titans soundtrack ----- Clash Of The Titans (Original Motion Picture Soundtrack)\n",
      "Burlesque soundtrack ----- Burlesque Original Motion Picture Soundtrack\n",
      "A Scanner Darkly soundtrack ----- A Scanner Darkly (Original Motion Picture Soundtrack)\n",
      "Smashed soundtrack ----- Smashed (Original Motion Picture Soundtrack)\n"
     ]
    }
   ],
   "source": [
    "# Filter dictionary by keeping elements whose string contains \"Original Motion Picture Soundtrack\"\n",
    "# Check if this is still useful after adjusted search\n",
    "\n",
    "newDict = dict(filter(lambda elem: \"Original Motion Picture Soundtrack\" in elem[1],title_soundtrack_dict.items()))\n",
    "print('Filtered Dictionary :')\n",
    "for key, value in newDict.items():\n",
    "    print(key +\" ----- \"+value)"
   ]
  },
  {
   "cell_type": "code",
   "execution_count": 31,
   "metadata": {},
   "outputs": [
    {
     "data": {
      "text/plain": [
       "104"
      ]
     },
     "execution_count": 31,
     "metadata": {},
     "output_type": "execute_result"
    }
   ],
   "source": [
    "#From 631 left with 104 entries for the drama genre that seem mostly okay. Just minor cleaning still necessary\n",
    "len(newDict)"
   ]
  },
  {
   "cell_type": "code",
   "execution_count": null,
   "metadata": {},
   "outputs": [],
   "source": []
  }
 ],
 "metadata": {
  "kernelspec": {
   "display_name": "Python 3",
   "language": "python",
   "name": "python3"
  },
  "language_info": {
   "codemirror_mode": {
    "name": "ipython",
    "version": 3
   },
   "file_extension": ".py",
   "mimetype": "text/x-python",
   "name": "python",
   "nbconvert_exporter": "python",
   "pygments_lexer": "ipython3",
   "version": "3.7.6"
  }
 },
 "nbformat": 4,
 "nbformat_minor": 4
}
