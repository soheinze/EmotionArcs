{
 "cells": [
  {
   "cell_type": "code",
   "execution_count": 1,
   "metadata": {},
   "outputs": [],
   "source": [
    "import os\n",
    "import re\n",
    "import json\n",
    "import requests\n",
    "from spotify_client import *"
   ]
  },
  {
   "cell_type": "code",
   "execution_count": 2,
   "metadata": {},
   "outputs": [],
   "source": [
    "client_id = \"85434f2d38ba4509924f3940ec3b40ed\"\n",
    "client_secret = \"3bb1e3237c334e95b1db5244740d2fc0\""
   ]
  },
  {
   "cell_type": "code",
   "execution_count": 3,
   "metadata": {},
   "outputs": [],
   "source": [
    "#Initialize a client that is connected and can be used for queries etc.\n",
    "spotify = SpotifyAPI(client_id, client_secret)"
   ]
  },
  {
   "cell_type": "code",
   "execution_count": 4,
   "metadata": {},
   "outputs": [],
   "source": [
    "import spotipy\n",
    "from spotipy.oauth2 import SpotifyClientCredentials\n",
    "import sys"
   ]
  },
  {
   "cell_type": "code",
   "execution_count": 5,
   "metadata": {},
   "outputs": [],
   "source": [
    "SPOTIPY_CLIENT_ID='85434f2d38ba4509924f3940ec3b40ed'\n",
    "SPOTIPY_CLIENT_SECRET='3bb1e3237c334e95b1db5244740d2fc0'"
   ]
  },
  {
   "cell_type": "markdown",
   "metadata": {},
   "source": [
    "## Step 1 : Find a Soundtrack to the Script\n",
    "\n",
    "`In: Modified File Name   \n",
    "Out: Album Id`"
   ]
  },
  {
   "cell_type": "code",
   "execution_count": 4,
   "metadata": {},
   "outputs": [],
   "source": [
    "# sub \"-\" with \" \" , removed .txt , added Original Soundtrack for search\n",
    "title = \"Chronicles of Narnia The Lion, the Witch and the Wardrobe Original Motion Picture Soundtrack\""
   ]
  },
  {
   "cell_type": "code",
   "execution_count": 54,
   "metadata": {},
   "outputs": [],
   "source": [
    "spotify_search = spotify.search(title,search_type=\"album\")\n",
    "result = spotify_search['albums']['items']"
   ]
  },
  {
   "cell_type": "code",
   "execution_count": 56,
   "metadata": {},
   "outputs": [
    {
     "data": {
      "text/plain": [
       "'01wn5MrXTUWjdYTLYC2wqU'"
      ]
     },
     "execution_count": 56,
     "metadata": {},
     "output_type": "execute_result"
    }
   ],
   "source": [
    "album_id = spotify_search['albums']['items'][0]['id']\n",
    "album_id"
   ]
  },
  {
   "cell_type": "code",
   "execution_count": 48,
   "metadata": {},
   "outputs": [
    {
     "name": "stdout",
     "output_type": "stream",
     "text": [
      "{'albums': {'href': 'https://api.spotify.com/v1/search?query=Chronicles+of+Narnia+The+Lion%2C+the+Witch+and+the+Wardrobe+Original+Motion+Picture+Soundtrack&type=album&offset=0&limit=10', 'items': [{'album_type': 'compilation', 'artists': [{'external_urls': {'spotify': 'https://open.spotify.com/artist/1BxqJ6pOCi8mkSjCbFYjpW'}, 'href': 'https://api.spotify.com/v1/artists/1BxqJ6pOCi8mkSjCbFYjpW', 'id': '1BxqJ6pOCi8mkSjCbFYjpW', 'name': 'Harry Gregson-Williams', 'type': 'artist', 'uri': 'spotify:artist:1BxqJ6pOCi8mkSjCbFYjpW'}], 'available_markets': ['AD', 'AE', 'AR', 'AT', 'AU', 'BE', 'BG', 'BH', 'BO', 'BR', 'CA', 'CH', 'CL', 'CO', 'CR', 'CY', 'CZ', 'DE', 'DK', 'DO', 'DZ', 'EC', 'EE', 'EG', 'ES', 'FI', 'FR', 'GB', 'GR', 'GT', 'HK', 'HN', 'HU', 'ID', 'IE', 'IL', 'IN', 'IS', 'IT', 'JO', 'JP', 'KW', 'LB', 'LI', 'LT', 'LU', 'LV', 'MA', 'MC', 'MT', 'MX', 'MY', 'NI', 'NL', 'NO', 'NZ', 'OM', 'PA', 'PE', 'PH', 'PL', 'PS', 'PT', 'PY', 'QA', 'RO', 'SA', 'SE', 'SG', 'SK', 'SV', 'TH', 'TN', 'TR', 'TW', 'US', 'UY', 'VN', 'ZA'], 'external_urls': {'spotify': 'https://open.spotify.com/album/01wn5MrXTUWjdYTLYC2wqU'}, 'href': 'https://api.spotify.com/v1/albums/01wn5MrXTUWjdYTLYC2wqU', 'id': '01wn5MrXTUWjdYTLYC2wqU', 'images': [{'height': 640, 'url': 'https://i.scdn.co/image/ab67616d0000b273820f8d16338c44f3adf864f7', 'width': 640}, {'height': 300, 'url': 'https://i.scdn.co/image/ab67616d00001e02820f8d16338c44f3adf864f7', 'width': 300}, {'height': 64, 'url': 'https://i.scdn.co/image/ab67616d00004851820f8d16338c44f3adf864f7', 'width': 64}], 'name': 'The Chronicles of Narnia: The Lion, The Witch and The Wardrobe (Original Motion Picture Soundtrack)', 'release_date': '2005-12-13', 'release_date_precision': 'day', 'total_tracks': 17, 'type': 'album', 'uri': 'spotify:album:01wn5MrXTUWjdYTLYC2wqU'}], 'limit': 10, 'next': None, 'offset': 0, 'previous': None, 'total': 2}}\n"
     ]
    }
   ],
   "source": [
    "# Using Spotipy Library\n",
    "sp = spotipy.Spotify(client_credentials_manager=SpotifyClientCredentials(SPOTIPY_CLIENT_ID,SPOTIPY_CLIENT_SECRET))\n",
    "spotipy_result = sp.search(title, type=\"album\")\n",
    "print(spotipy_result)"
   ]
  },
  {
   "cell_type": "code",
   "execution_count": 53,
   "metadata": {},
   "outputs": [
    {
     "data": {
      "text/plain": [
       "'01wn5MrXTUWjdYTLYC2wqU'"
      ]
     },
     "execution_count": 53,
     "metadata": {},
     "output_type": "execute_result"
    }
   ],
   "source": [
    "spotipy_album_id = spotipy_result['albums']['items'][0]['id']\n",
    "spotipy_album_id"
   ]
  },
  {
   "cell_type": "markdown",
   "metadata": {},
   "source": [
    "## Step 2: Get the tracks\n",
    "\n",
    "`In: Album Id   \n",
    "Out: List of Track_Ids`"
   ]
  },
  {
   "cell_type": "code",
   "execution_count": 64,
   "metadata": {},
   "outputs": [],
   "source": [
    "track_list = []\n",
    "for item in sp.album_tracks(spotipy_album_id)['items']:\n",
    "    track_list.append(item['id'])"
   ]
  },
  {
   "cell_type": "code",
   "execution_count": 65,
   "metadata": {},
   "outputs": [
    {
     "data": {
      "text/plain": [
       "['0sr5SHNfmxHGo34J17u7v8',\n",
       " '7JJp9nIoSFSdPbFYx0gx2C',\n",
       " '4KgOHADtS4HX5Dhkyyr1Ew',\n",
       " '0A8Mz80e71zqcEznJLniXS',\n",
       " '03pWkKJjo8ATe0z4SWGzyd',\n",
       " '3BrmHJDkqSJojbdlvhT0JZ',\n",
       " '1QfzxPGPepFcFNnvC248JB',\n",
       " '3Z1m5k8QVvghnFTDbrs7z2',\n",
       " '2lda3NIlkKYkZsU5eai2Ve',\n",
       " '7l3CJkD5hy5J27sFfH0rkT',\n",
       " '3svfTMSnUTPUxNYWiYMCNj',\n",
       " '1ze3GTOVgAG5xLVrvcEoUS',\n",
       " '7zY46aSULMG2pDG2fMlaI7',\n",
       " '6nd0jgRNWjsVSbdCW9I6ux',\n",
       " '0pVtVwvDuBnfsBdMib9kKo',\n",
       " '77wDOEKcTwrZ9VAKUK5MAP',\n",
       " '3w1v4TzxqkAjLZJRVxWTPA']"
      ]
     },
     "execution_count": 65,
     "metadata": {},
     "output_type": "execute_result"
    }
   ],
   "source": [
    "track_list"
   ]
  },
  {
   "cell_type": "markdown",
   "metadata": {},
   "source": [
    "## Step 3 Get Audio Features for Tracks\n",
    "\n",
    "`In: List of Track_IDs   \n",
    "Out: List of Tracks plus their Audio Features"
   ]
  },
  {
   "cell_type": "code",
   "execution_count": 81,
   "metadata": {},
   "outputs": [],
   "source": [
    "narnia_audiofeatures = sp.audio_features(track_list)"
   ]
  },
  {
   "cell_type": "code",
   "execution_count": 83,
   "metadata": {},
   "outputs": [
    {
     "data": {
      "text/plain": [
       "[{'danceability': 0.444,\n",
       "  'energy': 0.501,\n",
       "  'key': 8,\n",
       "  'loudness': -13.111,\n",
       "  'mode': 1,\n",
       "  'speechiness': 0.0373,\n",
       "  'acousticness': 0.304,\n",
       "  'instrumentalness': 0.961,\n",
       "  'liveness': 0.192,\n",
       "  'valence': 0.12,\n",
       "  'tempo': 126.076,\n",
       "  'type': 'audio_features',\n",
       "  'id': '0sr5SHNfmxHGo34J17u7v8',\n",
       "  'uri': 'spotify:track:0sr5SHNfmxHGo34J17u7v8',\n",
       "  'track_href': 'https://api.spotify.com/v1/tracks/0sr5SHNfmxHGo34J17u7v8',\n",
       "  'analysis_url': 'https://api.spotify.com/v1/audio-analysis/0sr5SHNfmxHGo34J17u7v8',\n",
       "  'duration_ms': 152507,\n",
       "  'time_signature': 4},\n",
       " {'danceability': 0.161,\n",
       "  'energy': 0.232,\n",
       "  'key': 4,\n",
       "  'loudness': -17.383,\n",
       "  'mode': 0,\n",
       "  'speechiness': 0.0398,\n",
       "  'acousticness': 0.811,\n",
       "  'instrumentalness': 0.709,\n",
       "  'liveness': 0.12,\n",
       "  'valence': 0.0355,\n",
       "  'tempo': 151.813,\n",
       "  'type': 'audio_features',\n",
       "  'id': '7JJp9nIoSFSdPbFYx0gx2C',\n",
       "  'uri': 'spotify:track:7JJp9nIoSFSdPbFYx0gx2C',\n",
       "  'track_href': 'https://api.spotify.com/v1/tracks/7JJp9nIoSFSdPbFYx0gx2C',\n",
       "  'analysis_url': 'https://api.spotify.com/v1/audio-analysis/7JJp9nIoSFSdPbFYx0gx2C',\n",
       "  'duration_ms': 218560,\n",
       "  'time_signature': 4}]"
      ]
     },
     "execution_count": 83,
     "metadata": {},
     "output_type": "execute_result"
    }
   ],
   "source": [
    "narnia_audiofeatures[:2]"
   ]
  },
  {
   "cell_type": "markdown",
   "metadata": {},
   "source": [
    "## Step 4 Extract and Visualize single Features\n",
    "\n",
    "**Valence Scores**\n",
    "\n",
    "> A measure from 0.0 to 1.0 describing the musical positiveness conveyed by a track. Tracks with high valence sound more positive (e.g. happy, cheerful, euphoric), while tracks with low valence sound more negative (e.g. sad, depressed, angry)."
   ]
  },
  {
   "cell_type": "code",
   "execution_count": 79,
   "metadata": {},
   "outputs": [],
   "source": [
    "narnia_valence = []\n",
    "for track in narnia_audiofeatures:\n",
    "    narnia_valence.append(track['valence'])"
   ]
  },
  {
   "cell_type": "code",
   "execution_count": 84,
   "metadata": {},
   "outputs": [
    {
     "data": {
      "text/plain": [
       "[0.12,\n",
       " 0.0355,\n",
       " 0.0327,\n",
       " 0.0397,\n",
       " 0.0322,\n",
       " 0.0301,\n",
       " 0.0387,\n",
       " 0.037,\n",
       " 0.0377,\n",
       " 0.0316,\n",
       " 0.0341,\n",
       " 0.141,\n",
       " 0.0367,\n",
       " 0.0951,\n",
       " 0.432,\n",
       " 0.1,\n",
       " 0.236]"
      ]
     },
     "execution_count": 84,
     "metadata": {},
     "output_type": "execute_result"
    }
   ],
   "source": [
    "narnia_valence"
   ]
  },
  {
   "cell_type": "code",
   "execution_count": 87,
   "metadata": {},
   "outputs": [
    {
     "data": {
      "image/png": "[encoded data removed]",
      "text/plain": [
       "<Figure size 432x288 with 1 Axes>"
      ]
     },
     "metadata": {
      "needs_background": "light"
     },
     "output_type": "display_data"
    }
   ],
   "source": [
    "import matplotlib.pyplot as plt\n",
    "plt.plot(narnia_valence)\n",
    "plt.ylabel('Valence Scores')\n",
    "plt.show()"
   ]
  },
  {
   "cell_type": "markdown",
   "metadata": {},
   "source": [
    "**Energy Scores**\n",
    "\n",
    "> Energy is a measure from 0.0 to 1.0 and represents a perceptual measure of intensity and activity. Typically, energetic tracks feel fast, loud, and noisy. For example, death metal has high energy, while a Bach prelude scores low on the scale. Perceptual features contributing to this attribute include dynamic range, perceived loudness, timbre, onset rate, and general entropy. "
   ]
  },
  {
   "cell_type": "code",
   "execution_count": 88,
   "metadata": {},
   "outputs": [],
   "source": [
    "narnia_energy = []\n",
    "for track in narnia_audiofeatures:\n",
    "    narnia_energy.append(track['energy'])"
   ]
  },
  {
   "cell_type": "code",
   "execution_count": 120,
   "metadata": {},
   "outputs": [
    {
     "data": {
      "image/png": "[encoded data removed]",
      "text/plain": [
       "<Figure size 432x288 with 1 Axes>"
      ]
     },
     "metadata": {
      "needs_background": "light"
     },
     "output_type": "display_data"
    }
   ],
   "source": [
    "plt.plot(narnia_energy)\n",
    "plt.ylabel('Energy Scores')\n",
    "plt.show()"
   ]
  },
  {
   "cell_type": "code",
   "execution_count": 108,
   "metadata": {},
   "outputs": [],
   "source": [
    "narnia_script = open(\"imsdb_download_all_scripts-main/scripts/Chronicles-of-Narnia-The-Lion,-the-Witch-and-the-Wardrobe.txt\",\"r\")\n",
    "\n",
    "#for line in narnia_script:\n",
    "#    print(line)"
   ]
  },
  {
   "cell_type": "code",
   "execution_count": 102,
   "metadata": {},
   "outputs": [
    {
     "name": "stdout",
     "output_type": "stream",
     "text": [
      "\n"
     ]
    }
   ],
   "source": []
  },
  {
   "cell_type": "markdown",
   "metadata": {},
   "source": [
    "### Romeo & Juliet Audiobook Soundtrack"
   ]
  },
  {
   "cell_type": "code",
   "execution_count": 115,
   "metadata": {},
   "outputs": [],
   "source": [
    "track_list_romeo = []\n",
    "for item in sp.album_tracks('4UJ6QqONJ24k76i043RfiG')['items']:\n",
    "    track_list_romeo.append(item['id'])"
   ]
  },
  {
   "cell_type": "code",
   "execution_count": 116,
   "metadata": {},
   "outputs": [],
   "source": [
    "romeo_audiofeatures = sp.audio_features(track_list_romeo)"
   ]
  },
  {
   "cell_type": "code",
   "execution_count": 117,
   "metadata": {},
   "outputs": [],
   "source": [
    "romeo_valence = []\n",
    "for track in romeo_audiofeatures:\n",
    "    romeo_valence.append(track['valence'])"
   ]
  },
  {
   "cell_type": "code",
   "execution_count": 118,
   "metadata": {},
   "outputs": [
    {
     "data": {
      "image/png": "[encoded data removed]",
      "text/plain": [
       "<Figure size 432x288 with 1 Axes>"
      ]
     },
     "metadata": {
      "needs_background": "light"
     },
     "output_type": "display_data"
    }
   ],
   "source": [
    "plt.plot(romeo_valence)\n",
    "plt.ylabel('Valence Scores')\n",
    "plt.show()"
   ]
  },
  {
   "cell_type": "code",
   "execution_count": 119,
   "metadata": {},
   "outputs": [],
   "source": [
    "romeo_energy = []\n",
    "for track in romeo_audiofeatures:\n",
    "    romeo_energy.append(track['energy'])"
   ]
  },
  {
   "cell_type": "code",
   "execution_count": 122,
   "metadata": {},
   "outputs": [
    {
     "data": {
      "image/png": "[encoded data removed]",
      "text/plain": [
       "<Figure size 432x288 with 1 Axes>"
      ]
     },
     "metadata": {
      "needs_background": "light"
     },
     "output_type": "display_data"
    }
   ],
   "source": [
    "plt.plot(romeo_energy)\n",
    "plt.ylabel('Energy')\n",
    "plt.show()"
   ]
  },
  {
   "cell_type": "markdown",
   "metadata": {},
   "source": [
    "### Lord of the Rings Teil 1"
   ]
  },
  {
   "cell_type": "code",
   "execution_count": 123,
   "metadata": {},
   "outputs": [],
   "source": [
    "lotr_album_id = '04rz93AqGy9JduzV3K81Dh'"
   ]
  },
  {
   "cell_type": "code",
   "execution_count": 124,
   "metadata": {},
   "outputs": [],
   "source": [
    "track_list_lotr = []\n",
    "for item in sp.album_tracks(lotr_album_id)['items']:\n",
    "    track_list_lotr.append(item['id'])\n",
    "    \n",
    "lotr_audiofeatures = sp.audio_features(track_list_lotr)\n",
    "\n",
    "lotr_valence = []\n",
    "for track in lotr_audiofeatures:\n",
    "    lotr_valence.append(track['valence'])\n",
    "\n",
    "lotr_energy = []\n",
    "for track in lotr_audiofeatures:\n",
    "    lotr_energy.append(track['energy'])   "
   ]
  },
  {
   "cell_type": "code",
   "execution_count": 165,
   "metadata": {},
   "outputs": [],
   "source": [
    "normalized_xaxis = [x/len(lotr_energy) for x in range(len(lotr_energy))]"
   ]
  },
  {
   "cell_type": "code",
   "execution_count": 169,
   "metadata": {},
   "outputs": [
    {
     "data": {
      "image/png": "[encoded data removed]",
      "text/plain": [
       "<Figure size 432x288 with 1 Axes>"
      ]
     },
     "metadata": {
      "needs_background": "light"
     },
     "output_type": "display_data"
    }
   ],
   "source": [
    "plt.plot(normalized_xaxis,lotr_energy)\n",
    "plt.ylabel('Energy')\n",
    "plt.show()"
   ]
  },
  {
   "cell_type": "code",
   "execution_count": 131,
   "metadata": {},
   "outputs": [],
   "source": [
    "tids = track_list_lotr"
   ]
  },
  {
   "cell_type": "code",
   "execution_count": 132,
   "metadata": {},
   "outputs": [],
   "source": [
    "max_tracks_per_call = 50"
   ]
  },
  {
   "cell_type": "code",
   "execution_count": 141,
   "metadata": {},
   "outputs": [
    {
     "name": "stdout",
     "output_type": "stream",
     "text": [
      "The Prophecy\n",
      "Concerning Hobbits\n",
      "The Shadow of the Past\n",
      "The Treason of Isengard\n",
      "The Black Rider\n",
      "At the Sign of the Prancing Pony\n",
      "A Knife in the Dark\n",
      "Flight to the Ford\n",
      "Many Meetings\n",
      "The Council of Elrond (feat. \"Aniron\") [Theme for Aragorn and Arwen]\n",
      "The Ring Goes South\n",
      "A Journey in the Dark\n",
      "The Bridge of Khazad Dum\n",
      "Lothlorien (feat. \"Lament for Gandalf\")\n",
      "The Great River\n",
      "Amon Hen\n",
      "The Breaking of the Fellowship (feat. \"In Dreams\")\n",
      "May It Be\n"
     ]
    }
   ],
   "source": [
    "song_list = []\n",
    "\n",
    "for start in range(0, len(tids), max_tracks_per_call):\n",
    "        results = sp.tracks(tids[start: start + max_tracks_per_call])\n",
    "        for track in results['tracks']:\n",
    "            print(track['name'])\n",
    "            song_list.append(track['name'])"
   ]
  },
  {
   "cell_type": "code",
   "execution_count": 140,
   "metadata": {},
   "outputs": [],
   "source": [
    "#lotr_valence"
   ]
  },
  {
   "cell_type": "code",
   "execution_count": 144,
   "metadata": {},
   "outputs": [],
   "source": [
    "songs_valence = zip(song_list, lotr_valence, lotr_energy)"
   ]
  },
  {
   "cell_type": "code",
   "execution_count": 145,
   "metadata": {},
   "outputs": [
    {
     "name": "stdout",
     "output_type": "stream",
     "text": [
      "(('The Prophecy', 0.0317, 0.0657), ('Concerning Hobbits', 0.175, 0.0629), ('The Shadow of the Past', 0.0353, 0.145), ('The Treason of Isengard', 0.0664, 0.233), ('The Black Rider', 0.305, 0.199), ('At the Sign of the Prancing Pony', 0.0628, 0.112), ('A Knife in the Dark', 0.0431, 0.369), ('Flight to the Ford', 0.0427, 0.08), ('Many Meetings', 0.0359, 0.1), ('The Council of Elrond (feat. \"Aniron\") [Theme for Aragorn and Arwen]', 0.039, 0.111), ('The Ring Goes South', 0.0798, 0.138), ('A Journey in the Dark', 0.0373, 0.22), ('The Bridge of Khazad Dum', 0.0365, 0.492), ('Lothlorien (feat. \"Lament for Gandalf\")', 0.0328, 0.117), ('The Great River', 0.0343, 0.124), ('Amon Hen', 0.0381, 0.127), ('The Breaking of the Fellowship (feat. \"In Dreams\")', 0.0465, 0.137), ('May It Be', 0.0547, 0.169))\n"
     ]
    }
   ],
   "source": [
    "print(tuple(songs_valence))"
   ]
  },
  {
   "cell_type": "code",
   "execution_count": 153,
   "metadata": {},
   "outputs": [],
   "source": [
    "selected_features = []\n",
    "for track in lotr_audiofeatures:\n",
    "    ft = [track['valence'],track['energy'],track['loudness'],track['tempo']]\n",
    "    selected_features.append(ft)"
   ]
  },
  {
   "cell_type": "code",
   "execution_count": 154,
   "metadata": {},
   "outputs": [
    {
     "data": {
      "text/plain": [
       "[[0.0317, 0.0657, -21.943, 177.549],\n",
       " [0.175, 0.0629, -21.524, 104.311],\n",
       " [0.0353, 0.145, -18.315, 144.708],\n",
       " [0.0664, 0.233, -16.068, 83.259],\n",
       " [0.305, 0.199, -14.744, 86.729],\n",
       " [0.0628, 0.112, -17.863, 175.844],\n",
       " [0.0431, 0.369, -15.537, 75.039],\n",
       " [0.0427, 0.08, -17.931, 108.629],\n",
       " [0.0359, 0.1, -20.607, 64.791],\n",
       " [0.039, 0.111, -20.031, 83.933],\n",
       " [0.0798, 0.138, -14.987, 80.007],\n",
       " [0.0373, 0.22, -17.94, 83.661],\n",
       " [0.0365, 0.492, -13.19, 84.204],\n",
       " [0.0328, 0.117, -20.316, 86.378],\n",
       " [0.0343, 0.124, -18.094, 77.278],\n",
       " [0.0381, 0.127, -17.731, 81.303],\n",
       " [0.0465, 0.137, -20.553, 78.577],\n",
       " [0.0547, 0.169, -17.88, 132.925]]"
      ]
     },
     "execution_count": 154,
     "metadata": {},
     "output_type": "execute_result"
    }
   ],
   "source": [
    "selected_features"
   ]
  },
  {
   "cell_type": "code",
   "execution_count": 176,
   "metadata": {},
   "outputs": [
    {
     "data": {
      "image/png": "[encoded data removed]",
      "text/plain": [
       "<Figure size 432x288 with 1 Axes>"
      ]
     },
     "metadata": {
      "needs_background": "light"
     },
     "output_type": "display_data"
    }
   ],
   "source": [
    "onefeaturelist = [item[3] for item in selected_features]\n",
    "plt.plot(normalized_xaxis,onefeaturelist)\n",
    "plt.ylabel('Energy')\n",
    "plt.show()"
   ]
  },
  {
   "cell_type": "markdown",
   "metadata": {},
   "source": [
    "## Next step(s): Create Sentiment Arc based on Script\n",
    "\n",
    "- Extract Dialogues from Text \n",
    "- Save on different levels\n",
    "- Run Sentiment Analysis to get Valence and Arousal Scores\n",
    "- Plot the Arcs"
   ]
  },
  {
   "cell_type": "code",
   "execution_count": 1,
   "metadata": {},
   "outputs": [],
   "source": [
    "# Read in the file\n",
    "with open('imsdb_download_all_scripts-main/scripts/Lord-of-the-Rings-Fellowship-of-the-Ring,-The.txt', 'r') as script: # Open the file\n",
    "    lotr_script = script.read()"
   ]
  },
  {
   "cell_type": "code",
   "execution_count": 2,
   "metadata": {},
   "outputs": [],
   "source": [
    "#print(lotr_script)"
   ]
  },
  {
   "cell_type": "code",
   "execution_count": 3,
   "metadata": {},
   "outputs": [],
   "source": [
    "import spacy"
   ]
  },
  {
   "cell_type": "code",
   "execution_count": 4,
   "metadata": {},
   "outputs": [],
   "source": [
    "nlp = spacy.load('en_core_web_md')"
   ]
  },
  {
   "cell_type": "code",
   "execution_count": 5,
   "metadata": {},
   "outputs": [],
   "source": [
    "doc = nlp(lotr_script)"
   ]
  },
  {
   "cell_type": "code",
   "execution_count": 6,
   "metadata": {},
   "outputs": [
    {
     "name": "stdout",
     "output_type": "stream",
     "text": [
      ",\n",
      "I\n",
      "smell\n",
      "it\n",
      "\n",
      "          \n",
      "in\n",
      "the\n",
      "air\n",
      "...\n",
      "Much\n",
      "that\n",
      "once\n",
      "was\n",
      "is\n",
      "lost\n",
      ",\n",
      "\n",
      "          \n",
      "for\n",
      "none\n",
      "now\n",
      "live\n",
      "who\n",
      "remember\n",
      "it\n",
      ".\n",
      "\n",
      "\n",
      "\n",
      "SUPER\n",
      ":\n",
      "THE\n",
      "LORD\n",
      "OF\n",
      "THE\n",
      "RINGS\n",
      "\n",
      "\n",
      "\n",
      "EXT\n",
      ".\n",
      "PROLOGUE\n",
      "--\n",
      "DAY\n",
      "\n",
      "\n",
      "\n",
      "IMAGE\n",
      ":\n",
      "FLICKERING\n",
      "FIRELIGHT\n",
      ".\n",
      "The\n",
      "NOLDORIN\n",
      "FORGE\n",
      "in\n",
      "EREGION\n"
     ]
    }
   ],
   "source": [
    "for d in doc[100:150]:\n",
    "    print(d)"
   ]
  },
  {
   "cell_type": "code",
   "execution_count": 7,
   "metadata": {},
   "outputs": [],
   "source": [
    "import pandas as pd"
   ]
  },
  {
   "cell_type": "code",
   "execution_count": 8,
   "metadata": {},
   "outputs": [
    {
     "data": {
      "text/html": [
       "<div>\n",
       "<style scoped>\n",
       "    .dataframe tbody tr th:only-of-type {\n",
       "        vertical-align: middle;\n",
       "    }\n",
       "\n",
       "    .dataframe tbody tr th {\n",
       "        vertical-align: top;\n",
       "    }\n",
       "\n",
       "    .dataframe thead th {\n",
       "        text-align: right;\n",
       "    }\n",
       "</style>\n",
       "<table border=\"1\" class=\"dataframe\">\n",
       "  <thead>\n",
       "    <tr style=\"text-align: right;\">\n",
       "      <th></th>\n",
       "      <th>Word</th>\n",
       "      <th>Valence</th>\n",
       "      <th>Arousal</th>\n",
       "      <th>Dominance</th>\n",
       "    </tr>\n",
       "  </thead>\n",
       "  <tbody>\n",
       "    <tr>\n",
       "      <th>0</th>\n",
       "      <td>aaaaaaah</td>\n",
       "      <td>0.479</td>\n",
       "      <td>0.606</td>\n",
       "      <td>0.291</td>\n",
       "    </tr>\n",
       "    <tr>\n",
       "      <th>1</th>\n",
       "      <td>aaaah</td>\n",
       "      <td>0.520</td>\n",
       "      <td>0.636</td>\n",
       "      <td>0.282</td>\n",
       "    </tr>\n",
       "    <tr>\n",
       "      <th>2</th>\n",
       "      <td>aardvark</td>\n",
       "      <td>0.427</td>\n",
       "      <td>0.490</td>\n",
       "      <td>0.437</td>\n",
       "    </tr>\n",
       "    <tr>\n",
       "      <th>3</th>\n",
       "      <td>aback</td>\n",
       "      <td>0.385</td>\n",
       "      <td>0.407</td>\n",
       "      <td>0.288</td>\n",
       "    </tr>\n",
       "    <tr>\n",
       "      <th>4</th>\n",
       "      <td>abacus</td>\n",
       "      <td>0.510</td>\n",
       "      <td>0.276</td>\n",
       "      <td>0.485</td>\n",
       "    </tr>\n",
       "    <tr>\n",
       "      <th>...</th>\n",
       "      <td>...</td>\n",
       "      <td>...</td>\n",
       "      <td>...</td>\n",
       "      <td>...</td>\n",
       "    </tr>\n",
       "    <tr>\n",
       "      <th>20002</th>\n",
       "      <td>zoo</td>\n",
       "      <td>0.760</td>\n",
       "      <td>0.520</td>\n",
       "      <td>0.580</td>\n",
       "    </tr>\n",
       "    <tr>\n",
       "      <th>20003</th>\n",
       "      <td>zoological</td>\n",
       "      <td>0.667</td>\n",
       "      <td>0.458</td>\n",
       "      <td>0.492</td>\n",
       "    </tr>\n",
       "    <tr>\n",
       "      <th>20004</th>\n",
       "      <td>zoology</td>\n",
       "      <td>0.568</td>\n",
       "      <td>0.347</td>\n",
       "      <td>0.509</td>\n",
       "    </tr>\n",
       "    <tr>\n",
       "      <th>20005</th>\n",
       "      <td>zoom</td>\n",
       "      <td>0.490</td>\n",
       "      <td>0.520</td>\n",
       "      <td>0.462</td>\n",
       "    </tr>\n",
       "    <tr>\n",
       "      <th>20006</th>\n",
       "      <td>zucchini</td>\n",
       "      <td>0.510</td>\n",
       "      <td>0.321</td>\n",
       "      <td>0.250</td>\n",
       "    </tr>\n",
       "  </tbody>\n",
       "</table>\n",
       "<p>20007 rows × 4 columns</p>\n",
       "</div>"
      ],
      "text/plain": [
       "             Word  Valence  Arousal  Dominance\n",
       "0        aaaaaaah    0.479    0.606      0.291\n",
       "1           aaaah    0.520    0.636      0.282\n",
       "2        aardvark    0.427    0.490      0.437\n",
       "3           aback    0.385    0.407      0.288\n",
       "4          abacus    0.510    0.276      0.485\n",
       "...           ...      ...      ...        ...\n",
       "20002         zoo    0.760    0.520      0.580\n",
       "20003  zoological    0.667    0.458      0.492\n",
       "20004     zoology    0.568    0.347      0.509\n",
       "20005        zoom    0.490    0.520      0.462\n",
       "20006    zucchini    0.510    0.321      0.250\n",
       "\n",
       "[20007 rows x 4 columns]"
      ]
     },
     "execution_count": 8,
     "metadata": {},
     "output_type": "execute_result"
    }
   ],
   "source": [
    "vad_df = pd.read_csv(\"NRC-VAD-Lexicon.txt\", sep=\"\\t\")\n",
    "vad_df"
   ]
  },
  {
   "cell_type": "code",
   "execution_count": 9,
   "metadata": {},
   "outputs": [],
   "source": [
    "word_valence = dict(zip(vad_df[\"Word\"], vad_df[\"Valence\"]))\n",
    "word_arousal = dict(zip(vad_df[\"Word\"], vad_df[\"Arousal\"]))"
   ]
  },
  {
   "cell_type": "code",
   "execution_count": 10,
   "metadata": {},
   "outputs": [],
   "source": [
    "import numpy as np"
   ]
  },
  {
   "cell_type": "markdown",
   "metadata": {},
   "source": [
    "Method works with a list of Strings:"
   ]
  },
  {
   "cell_type": "code",
   "execution_count": 45,
   "metadata": {},
   "outputs": [],
   "source": [
    "def text_valence(text, agg=sum):\n",
    "    return agg([word_valence.get(t.lemma_, 0) for t in nlp(text)])"
   ]
  },
  {
   "cell_type": "code",
   "execution_count": 13,
   "metadata": {},
   "outputs": [],
   "source": [
    "import re"
   ]
  },
  {
   "cell_type": "code",
   "execution_count": 25,
   "metadata": {},
   "outputs": [],
   "source": [
    "split_script = re.split(\"\\n\\n\",lotr_script)"
   ]
  },
  {
   "cell_type": "code",
   "execution_count": 28,
   "metadata": {},
   "outputs": [
    {
     "name": "stdout",
     "output_type": "stream",
     "text": [
      "\n",
      "BLACK SCREEN \n",
      "\n",
      "SUPER: New Line Cinema Presents \n",
      "\n",
      "SUPER: A Wingnut Films Production \n",
      "\n",
      "BLACK CONTINUES... ELVISH SINGING....A WOMAN'S VOICE IS\n",
      "whispering, tinged with SADNESS and REGRET: \n",
      "\n",
      "                    GALADRIEL (V.O.)\n",
      "              (Elvish: subtitled)\n",
      "          \"I amar prestar sen: han mathon ne nen,\n",
      "          han mathon ne chae...a han noston ned\n",
      "          wilith.\"\n",
      "              (English:)\n",
      "          The world is changed: I feel it in the\n",
      "          water, I feel it in the earth, I smell it\n",
      "          in the air...Much that once was is lost,\n",
      "          for none now live who remember it. \n",
      "\n",
      "SUPER: THE LORD OF THE RINGS \n",
      "\n",
      "EXT. PROLOGUE -- DAY \n",
      "\n",
      "IMAGE: FLICKERING FIRELIGHT. The NOLDORIN FORGE in EREGION.\n",
      "MOLTEN GOLD POURS from the lip of an IRON LADLE. \n",
      "\n",
      "                    GALADRIEL (V.O.)\n",
      "          It began with the forging of the Great\n",
      "          Rings. \n",
      "\n",
      "IMAGE: THREE RINGS, each set with a single GEM, are received\n",
      "by the HIGH ELVES-GALADRIEL, GIL-GALAD and CIRDAN. \n",
      "\n"
     ]
    }
   ],
   "source": [
    "for s in split_script[:10]:\n",
    "    print(s,\"\\n\")"
   ]
  },
  {
   "cell_type": "code",
   "execution_count": 30,
   "metadata": {},
   "outputs": [
    {
     "data": {
      "text/plain": [
       "'\\nBLACK SCREEN'"
      ]
     },
     "execution_count": 30,
     "metadata": {},
     "output_type": "execute_result"
    }
   ],
   "source": [
    "split_script[0]"
   ]
  },
  {
   "cell_type": "code",
   "execution_count": 39,
   "metadata": {},
   "outputs": [],
   "source": [
    "stringmatch = re.match(\"A-Z\",\"BLACK\")"
   ]
  },
  {
   "cell_type": "code",
   "execution_count": 43,
   "metadata": {},
   "outputs": [
    {
     "data": {
      "text/plain": [
       "NoneType"
      ]
     },
     "execution_count": 43,
     "metadata": {},
     "output_type": "execute_result"
    }
   ],
   "source": [
    "type(stringmatch)"
   ]
  },
  {
   "cell_type": "code",
   "execution_count": 44,
   "metadata": {},
   "outputs": [],
   "source": [
    "testtext= \"The world is changed: I feel it in the water, I feel it in the earth, I smell it in the air...Much that once was is lost, for none now live who remember it.\""
   ]
  },
  {
   "cell_type": "code",
   "execution_count": 49,
   "metadata": {},
   "outputs": [
    {
     "name": "stdout",
     "output_type": "stream",
     "text": [
      "0.996\n",
      "2.4850000000000003\n",
      "1.5380000000000003\n",
      "3.9259999999999997\n",
      "9.857000000000001\n",
      "0.8440000000000001\n",
      "0.7190000000000001\n",
      "4.986999999999999\n",
      "0.677\n",
      "5.806\n"
     ]
    }
   ],
   "source": [
    "for s in split_script[:10]:\n",
    "    print(text_valence(s))"
   ]
  },
  {
   "cell_type": "code",
   "execution_count": 52,
   "metadata": {},
   "outputs": [
    {
     "data": {
      "text/plain": [
       "0.51"
      ]
     },
     "execution_count": 52,
     "metadata": {},
     "output_type": "execute_result"
    }
   ],
   "source": [
    "word_valence['smell']"
   ]
  },
  {
   "cell_type": "code",
   "execution_count": 53,
   "metadata": {},
   "outputs": [
    {
     "data": {
      "text/plain": [
       "1966"
      ]
     },
     "execution_count": 53,
     "metadata": {},
     "output_type": "execute_result"
    }
   ],
   "source": [
    "len(split_script)"
   ]
  },
  {
   "cell_type": "code",
   "execution_count": 54,
   "metadata": {},
   "outputs": [
    {
     "data": {
      "text/plain": [
       "'b'"
      ]
     },
     "execution_count": 54,
     "metadata": {},
     "output_type": "execute_result"
    }
   ],
   "source": [
    "re.sub(\"[A-Z]\",\"\",\"BLACKb\")"
   ]
  },
  {
   "cell_type": "code",
   "execution_count": 64,
   "metadata": {},
   "outputs": [],
   "source": [
    "scores = []\n",
    "\n",
    "for s in split_script:\n",
    "    scores.append(text_valence(re.sub(\"[A-Z][A-Z]+\",\"\",s)))"
   ]
  },
  {
   "cell_type": "code",
   "execution_count": 65,
   "metadata": {},
   "outputs": [
    {
     "data": {
      "text/plain": [
       "[0,\n",
       " 0.7240000000000001,\n",
       " 0.6940000000000001,\n",
       " 0.959,\n",
       " 9.857000000000001,\n",
       " 0,\n",
       " 0,\n",
       " 0.541,\n",
       " 0.677,\n",
       " 2.2220000000000004]"
      ]
     },
     "execution_count": 65,
     "metadata": {},
     "output_type": "execute_result"
    }
   ],
   "source": [
    "scores[:10]"
   ]
  },
  {
   "cell_type": "code",
   "execution_count": 70,
   "metadata": {},
   "outputs": [
    {
     "data": {
      "image/png": "[encoded data removed]",
      "text/plain": [
       "<Figure size 432x288 with 1 Axes>"
      ]
     },
     "metadata": {
      "needs_background": "light"
     },
     "output_type": "display_data"
    }
   ],
   "source": [
    "plt.plot(scores)\n",
    "plt.show()"
   ]
  },
  {
   "cell_type": "code",
   "execution_count": 67,
   "metadata": {},
   "outputs": [],
   "source": [
    "import matplotlib.pyplot as plt"
   ]
  },
  {
   "cell_type": "code",
   "execution_count": null,
   "metadata": {},
   "outputs": [],
   "source": []
  }
 ],
 "metadata": {
  "kernelspec": {
   "display_name": "Python 3",
   "language": "python",
   "name": "python3"
  },
  "language_info": {
   "codemirror_mode": {
    "name": "ipython",
    "version": 3
   },
   "file_extension": ".py",
   "mimetype": "text/x-python",
   "name": "python",
   "nbconvert_exporter": "python",
   "pygments_lexer": "ipython3",
   "version": "3.8.5"
  }
 },
 "nbformat": 4,
 "nbformat_minor": 4
}
